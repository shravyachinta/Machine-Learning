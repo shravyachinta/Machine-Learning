{
 "cells": [
  {
   "cell_type": "code",
   "execution_count": null,
   "metadata": {},
   "outputs": [],
   "source": [
    "import smtplib\n",
    "import getpass\n",
    "from email.mime.text import MIMEText\n",
    "\n",
    "def send_email():\n",
    "    sender_address = 'sender_email@gmail.com'\n",
    "    print(\"Please enter your password: \")\n",
    "    password = getpass.getpass()\n",
    "    subject ='Test Email'\n",
    "    msg= '''Hello! This is a test mail!'''\n",
    "\n",
    "    server = smtplib.SMTP('smtp.gmail.com',587)\n",
    "    server.starttls()\n",
    "    server.login(sender_address,password)\n",
    "    print(\"Login Success!\")\n",
    "\n",
    "\n",
    "    msg=MIMEText(msg)\n",
    "    msg['Subject']=subject\n",
    "    msg['From'] = sender_address\n",
    "    msg['To'] ='receiver_email@gmail.com'\n",
    "    msg.set_param('importance','high value')\n",
    "    recipients = 'receiver_email@gmail.com'\n",
    "\n",
    "    server.sendmail(sender_address, recipients, msg.as_string())\n",
    "    print(\"Email has been sent to \", recipients)\n",
    "\n",
    "send_email()"
   ]
  },
  {
   "cell_type": "code",
   "execution_count": null,
   "metadata": {},
   "outputs": [],
   "source": []
  }
 ],
 "metadata": {
  "kernelspec": {
   "display_name": "Python 3",
   "language": "python",
   "name": "python3"
  },
  "language_info": {
   "codemirror_mode": {
    "name": "ipython",
    "version": 3
   },
   "file_extension": ".py",
   "mimetype": "text/x-python",
   "name": "python",
   "nbconvert_exporter": "python",
   "pygments_lexer": "ipython3",
   "version": "3.7.6"
  }
 },
 "nbformat": 4,
 "nbformat_minor": 4
}
